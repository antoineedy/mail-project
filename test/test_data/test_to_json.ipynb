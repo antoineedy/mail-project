{
 "cells": [
  {
   "cell_type": "code",
   "execution_count": 5,
   "metadata": {},
   "outputs": [
    {
     "name": "stdout",
     "output_type": "stream",
     "text": [
      "{0: 'Avez-vous des chambres disponibles pour ce week-end ?', 1: 'Quelles sont les disponibilités de vos chambres pour le mois prochain ?', 2: \"Je voudrais réserver une chambre, est-ce qu'il y en a de libres ?\", 3: 'Y a-t-il des chambres libres pour deux personnes demain soir ?', 4: 'Je cherche une chambre simple pour trois nuits, avez-vous de la disponibilité ?', 5: \"Est-ce qu'il reste des chambres pour le 25 septembre ?\", 6: 'Pouvez-vous me dire si vous avez des chambres pour la semaine prochaine ?', 7: \"Je souhaite réserver une chambre familiale, est-ce qu'il en reste ?\", 8: 'Quelles sont vos disponibilités pour une chambre avec vue sur la mer ?', 9: \"Est-ce qu'il reste des suites disponibles pour ce soir ?\", 10: \"J'aimerais savoir si vous avez des chambres pour quatre personnes le 10 octobre.\", 11: 'Je voudrais réserver une chambre avec un grand lit, est-ce possible pour demain ?', 12: 'Y a-t-il des chambres disponibles pour une personne du 15 au 18 novembre ?', 13: 'Je voudrais savoir si vous avez des chambres doubles disponibles pour la semaine prochaine.', 14: 'Avez-vous encore des chambres pour deux nuits à partir de vendredi ?', 15: \"Je cherche une chambre avec balcon, est-ce qu'il en reste pour ce week-end ?\", 16: 'Pouvez-vous vérifier si vous avez des chambres libres du 1er au 3 décembre ?', 17: 'Je souhaite réserver une chambre pour trois personnes le 22 septembre, est-ce possible ?', 18: \"Est-ce qu'il y a des chambres libres pour ce soir ?\", 19: 'Je voudrais savoir si vous avez des chambres pour quatre nuits à partir de jeudi.', 20: 'Je cherche une chambre avec baignoire, avez-vous de la disponibilité ?', 21: 'Pouvez-vous me dire si vous avez des suites disponibles pour le mois prochain ?', 22: \"Je souhaite réserver une chambre double, est-ce qu'il y en a encore ?\", 23: 'Quelles sont vos disponibilités pour une chambre simple en novembre ?', 24: \"Est-ce qu'il reste des chambres avec petit-déjeuner inclus pour ce week-end ?\", 25: 'Y a-t-il des chambres disponibles pour deux adultes et un enfant ce samedi ?', 26: 'Je voudrais savoir si vous avez des chambres de luxe pour cette semaine.', 27: 'Avez-vous des chambres avec vue sur le jardin de disponibles pour septembre ?', 28: \"Je cherche une chambre économique, est-ce qu'il en reste pour demain soir ?\", 29: 'Est-ce que je peux encore réserver une chambre pour trois nuits la semaine prochaine ?'}\n"
     ]
    }
   ],
   "source": [
    "# import queries_activite?json\n",
    "\n",
    "import json\n",
    "\n",
    "with open('queries_disponibilite_chambres.json') as json_file:\n",
    "    data = json.load(json_file)\n",
    "\n",
    "out = {}\n",
    "for idx, i in enumerate(data):\n",
    "    out[idx] = i\n",
    "\n",
    "print(out)\n",
    "\n",
    "# save out to queries_activite.json\n",
    "\n",
    "with open('queries_disponibilite_chambres.json', 'w') as json_file:\n",
    "    json.dump(out, json_file)\n"
   ]
  }
 ],
 "metadata": {
  "kernelspec": {
   "display_name": "mail-project",
   "language": "python",
   "name": "python3"
  },
  "language_info": {
   "codemirror_mode": {
    "name": "ipython",
    "version": 3
   },
   "file_extension": ".py",
   "mimetype": "text/x-python",
   "name": "python",
   "nbconvert_exporter": "python",
   "pygments_lexer": "ipython3",
   "version": "3.10.4"
  }
 },
 "nbformat": 4,
 "nbformat_minor": 2
}

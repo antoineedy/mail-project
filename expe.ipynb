{
 "cells": [
  {
   "cell_type": "code",
   "execution_count": 65,
   "metadata": {},
   "outputs": [],
   "source": [
    "import json\n",
    "import pandas as pd"
   ]
  },
  {
   "cell_type": "code",
   "execution_count": 66,
   "metadata": {},
   "outputs": [],
   "source": [
    "%%capture --no-stderr\n",
    "%pip install -U langchain-nomic langchain_community tiktoken langchainhub chromadb langchain langgraph nomic[local]"
   ]
  },
  {
   "cell_type": "markdown",
   "metadata": {},
   "source": [
    "## Load Data"
   ]
  },
  {
   "cell_type": "code",
   "execution_count": null,
   "metadata": {},
   "outputs": [],
   "source": [
    "# load data\n",
    "\n",
    "try:\n",
    "    with  open('data/mails.json', 'r') as f:\n",
    "        email_database = json.load(f)\n",
    "except FileNotFoundError:\n",
    "    raise FileNotFoundError('mails.json not found')\n",
    "\n",
    "print(f\"Il y a {len(email_database)} mails dans la base de données\")\n",
    "\n",
    "try :\n",
    "    actis = pd.read_csv('data/actis.csv')\n",
    "except FileNotFoundError:\n",
    "    raise FileNotFoundError('actis.csv not found')\n",
    "\n",
    "print(f\"Il y a {len(actis)} actis dans la base de données\")\n",
    "\n",
    "try :\n",
    "    chambres = pd.read_csv('data/chambres.csv')\n",
    "except FileNotFoundError:\n",
    "    raise FileNotFoundError('chambres.csv not found')\n",
    "\n",
    "print(f\"Il y a {len(chambres)} chambres dans la base de données\")\n",
    "\n",
    "try :\n",
    "    accueil = pd.read_csv('data/accueil.csv')\n",
    "except FileNotFoundError:\n",
    "    raise FileNotFoundError('accueil.csv not found')\n",
    "\n",
    "print(f\"Il y a {len(accueil)} accueils dans la base de données\")"
   ]
  },
  {
   "cell_type": "code",
   "execution_count": 68,
   "metadata": {},
   "outputs": [],
   "source": [
    "local_llm = \"llama3.1\"\n",
    "local_embedder = \"nomic-embed-text\""
   ]
  },
  {
   "cell_type": "code",
   "execution_count": 69,
   "metadata": {},
   "outputs": [],
   "source": [
    "from langchain_ollama.embeddings import OllamaEmbeddings\n",
    "from langchain_community.chat_models import ChatOllama\n",
    "\n",
    "embedder = OllamaEmbeddings(model = local_embedder)\n",
    "llm = ChatOllama(model = local_llm, temperature=0)"
   ]
  },
  {
   "cell_type": "markdown",
   "metadata": {},
   "source": [
    "## Choose where to fecth the information from"
   ]
  },
  {
   "cell_type": "code",
   "execution_count": 70,
   "metadata": {},
   "outputs": [],
   "source": [
    "from typing import Literal\n",
    "from langchain_core.prompts import ChatPromptTemplate\n",
    "from pydantic import BaseModel, Field\n",
    "from langchain_core.runnables import RunnableParallel, RunnablePassthrough"
   ]
  },
  {
   "cell_type": "code",
   "execution_count": null,
   "metadata": {},
   "outputs": [],
   "source": [
    "PROMPT = \"\"\"\n",
    "Given a user question choose which datasource would be most relevant for answering their question in [\"base_email\", \"disponibilite_chambres\", \"ouverture_accueil\", \"prix_activites\", \"out_of_context\"].\n",
    "base_email est la base de données des mails anciens\n",
    "disponibilite_chambres est la base de données des dates des chambres disponibles\n",
    "ouverture_accueil est la base de données des heures d'ouverture de l'accueil du logement\n",
    "prix_activites est la base de données des prix des activités proposées.\n",
    "out_of_context est une réponse qui n'a rien à voir avec l'hotellerie.\n",
    "\n",
    "Même si tu sais la réponse, ne la donne pas si c'est hors contexte !!!\n",
    "\n",
    "Tu vas répondre OBLIGATOIREMENT en json, par exemple \"datasource\": \"base_email\" ou \"datasource\": \"out_of_context\", ainsi que \"question\": <la question posée par l'utilisateur>.\n",
    "\"\"\"\n",
    "\n",
    "\n",
    "prompt = ChatPromptTemplate.from_messages(\n",
    "    [\n",
    "        (\"system\", PROMPT),\n",
    "        (\"human\", \"{question}\"),\n",
    "    ]\n",
    ")\n",
    "\n",
    "from langchain_core.output_parsers import JsonOutputParser\n",
    "\n",
    "\n",
    "router = {\"question\" : RunnablePassthrough()} | prompt | llm | JsonOutputParser()\n",
    "\n",
    "question = \"Salut, une chambre pour deux personnes est-elle disponible le 15 août ?\"\n",
    "router.invoke(question)"
   ]
  },
  {
   "cell_type": "code",
   "execution_count": 72,
   "metadata": {},
   "outputs": [],
   "source": [
    "CHAMBRE_PROMPT = \"\"\"\n",
    "Tu vas utiliser le csv des chambres pour répondre à la question de l'utilisateur.\n",
    "Le csv est le suivant :\n",
    "\"\"\" + chambres.to_string()\n",
    "\n",
    "dispo_chambres_prompt = ChatPromptTemplate.from_messages(\n",
    "    [\n",
    "        (\"system\", CHAMBRE_PROMPT),\n",
    "        (\"human\", \"{question}\"),\n",
    "    ]\n",
    ")"
   ]
  },
  {
   "cell_type": "code",
   "execution_count": null,
   "metadata": {},
   "outputs": [],
   "source": [
    "def choose_route(result):\n",
    "    if \"base_email\" in result['datasource']:\n",
    "        return \"accéder à la base d'emails\"\n",
    "    elif \"disponibilite_chambres\" in result['datasource']:\n",
    "        print(\"accéder au CSV des chambres\")\n",
    "        print(result)\n",
    "        return dispo_chambres_prompt\n",
    "    elif \"ouverture_accueil\" in result['datasource']:\n",
    "        return \"accéder au CSV de l'accueil\"\n",
    "    elif \"prix_activites\" in result['datasource']:\n",
    "        return \"accéder au CSV des activités\"\n",
    "    elif \"out_of_context\" in result['datasource']:\n",
    "        return \"hors contexte\"\n",
    "    else:\n",
    "        raise ValueError(\"datasource not recognized\")\n",
    "\n",
    "from langchain_core.runnables import RunnableLambda\n",
    "\n",
    "full_chain = router | RunnableLambda(choose_route) | llm\n",
    "\n",
    "question = \"Salut, une chambre pour deux personnes est-elle disponible le 15 août ?\"\n",
    "full_chain.invoke({\"question\": question})"
   ]
  },
  {
   "cell_type": "code",
   "execution_count": null,
   "metadata": {},
   "outputs": [],
   "source": [
    "question = \"combien font 2+2\"\n",
    "full_chain.invoke({\"question\": question})"
   ]
  },
  {
   "cell_type": "code",
   "execution_count": null,
   "metadata": {},
   "outputs": [],
   "source": [
    "question = \"je veux réserver une chambre frère\"\n",
    "full_chain.invoke({\"question\": question})"
   ]
  },
  {
   "cell_type": "code",
   "execution_count": null,
   "metadata": {},
   "outputs": [],
   "source": [
    "question = \"je veux faire du masque et tuba vous avez ? à quel prix ?\"\n",
    "full_chain.invoke({\"question\": question})"
   ]
  }
 ],
 "metadata": {
  "kernelspec": {
   "display_name": "mail-project",
   "language": "python",
   "name": "python3"
  },
  "language_info": {
   "codemirror_mode": {
    "name": "ipython",
    "version": 3
   },
   "file_extension": ".py",
   "mimetype": "text/x-python",
   "name": "python",
   "nbconvert_exporter": "python",
   "pygments_lexer": "ipython3",
   "version": "3.10.4"
  }
 },
 "nbformat": 4,
 "nbformat_minor": 2
}

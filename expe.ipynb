{
 "cells": [
  {
   "cell_type": "code",
   "execution_count": 1,
   "metadata": {},
   "outputs": [],
   "source": [
    "import json\n",
    "import pandas as pd\n",
    "from copy import deepcopy"
   ]
  },
  {
   "cell_type": "code",
   "execution_count": 2,
   "metadata": {},
   "outputs": [],
   "source": [
    "from pipeline.first_classifier import first_classifier\n",
    "from pipeline.routes import continue_route\n",
    "from pipeline.output import as_output"
   ]
  },
  {
   "cell_type": "code",
   "execution_count": 3,
   "metadata": {},
   "outputs": [
    {
     "data": {
      "text/plain": [
       "{'question': 'Puis-je réserver une chambre en décembre ?',\n",
       " 'datasource': 'disponibilite_chambres'}"
      ]
     },
     "execution_count": 3,
     "metadata": {},
     "output_type": "execute_result"
    }
   ],
   "source": [
    "first_classifier.invoke(\"Puis-je réserver une chambre en décembre ?\")"
   ]
  },
  {
   "cell_type": "code",
   "execution_count": 4,
   "metadata": {},
   "outputs": [
    {
     "data": {
      "text/plain": [
       "{'question': \"Quand l'accueil est-il ouvert ?\",\n",
       " 'datasource': 'ouverture_accueil'}"
      ]
     },
     "execution_count": 4,
     "metadata": {},
     "output_type": "execute_result"
    }
   ],
   "source": [
    "first_classifier.invoke(\"Quand l'accueil est-il ouvert ?\")"
   ]
  },
  {
   "cell_type": "code",
   "execution_count": 5,
   "metadata": {},
   "outputs": [],
   "source": [
    "chain = first_classifier | continue_route | as_output"
   ]
  },
  {
   "cell_type": "code",
   "execution_count": 6,
   "metadata": {},
   "outputs": [
    {
     "name": "stdout",
     "output_type": "stream",
     "text": [
      "-----------------\n",
      "Question : Bonjour, je souhaite utiliser l'ordinateur, est-ce payant ?\n",
      "Datasource : ouverture_accueil\n",
      "-----------------\n",
      "-----------------\n",
      "Prompt :  Tu es un assistant qui va répondre à une question de l'utilisateur à propos des horaires d'ouverture de l'accueil. Tu vas être très simple et factuel. Tu vas t'exprimer clairement.\n",
      "\n",
      "    Question : Bonjour, je souhaite utiliser l'ordinateur, est-ce payant ?\n",
      "\n",
      "    \n",
      "    Tu vas répondre à l'aide de ces données:\n",
      "    Données :\n",
      "           Jour Heure d'ouverture Heure de fermeture\n",
      "0     Lundi             08:00              18:00\n",
      "1     Mardi             08:00              18:00\n",
      "2  Mercredi             08:00              18:00\n",
      "3     Jeudi             08:00              18:00\n",
      "4  Vendredi             08:00              18:00\n",
      "5    Samedi             09:00              15:00\n",
      "6  Dimanche             Fermé              Fermé\n",
      "-----------------\n",
      "Voici le mail :\n",
      "\n",
      "Objet : Utilisation des ordinateurs à la résidence MozambFun\n",
      "\n",
      "Bonjour !\n",
      "\n",
      "L'accueil est ouvert du lundi au vendredi de 8h à 18h. Vous pouvez donc utiliser l'ordinateur pendant ces heures.\n",
      "\n",
      "Le samedi, l'accueil est ouvert de 9h à 15h.\n",
      "\n",
      "Le dimanche, l'accueil est fermé.\n",
      "\n",
      "Avez-vous d'autres questions ?\n",
      "\n",
      "Cordialement,\n",
      "L'équipe de la résidence MozambFun.\n"
     ]
    }
   ],
   "source": [
    "#mail = \"Salut,quand l'accueil est-il ouvert ?\"\n",
    "\n",
    "# mail = \"Je cherche à reserver une chambre familiale pour le 15 janvier pendant 1 semaine\"\n",
    "\n",
    "mail = \"Bonjour, je souhaite utiliser l'ordinateur, est-ce payant ?\"\n",
    "\n",
    "print(chain.invoke(mail))"
   ]
  }
 ],
 "metadata": {
  "kernelspec": {
   "display_name": "mail-project",
   "language": "python",
   "name": "python3"
  },
  "language_info": {
   "codemirror_mode": {
    "name": "ipython",
    "version": 3
   },
   "file_extension": ".py",
   "mimetype": "text/x-python",
   "name": "python",
   "nbconvert_exporter": "python",
   "pygments_lexer": "ipython3",
   "version": "3.10.4"
  }
 },
 "nbformat": 4,
 "nbformat_minor": 2
}

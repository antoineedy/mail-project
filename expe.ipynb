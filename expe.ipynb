{
 "cells": [
  {
   "cell_type": "code",
   "execution_count": 1,
   "metadata": {},
   "outputs": [],
   "source": [
    "import json\n",
    "import pandas as pd\n",
    "from copy import deepcopy"
   ]
  },
  {
   "cell_type": "code",
   "execution_count": 2,
   "metadata": {},
   "outputs": [],
   "source": [
    "from pipeline.first_classifier import first_classifier\n",
    "from pipeline.routes import continue_route\n",
    "#from pipeline.output import as_output"
   ]
  },
  {
   "cell_type": "code",
   "execution_count": 3,
   "metadata": {},
   "outputs": [],
   "source": [
    "chain = first_classifier | continue_route"
   ]
  },
  {
   "cell_type": "code",
   "execution_count": 4,
   "metadata": {},
   "outputs": [
    {
     "name": "stdout",
     "output_type": "stream",
     "text": [
      "-----------------\n",
      "Question : Bonjour, je souhaite utiliser l'ordinateur, est-ce payant ?\n",
      "Datasource : other\n",
      "-----------------\n",
      "-----------------\n",
      "Prompt :  messages=[HumanMessage(content='Tu es un assistant qui va m\\'aider à répondre à des mails. J\\'ai déjà une base énorme de mails avec des questons et de réponses, et je veux que tu m\\'aides à répondre à des questions.\\n    Je vaius te donner en contexte une paire question/réponse parmi mes mails, puis une question. Tu devras me donner la réponse qui correspond le mieux à la question. Tu peux dire \"je ne sais pas\" si tu ne sais pas.\\n\\n    Voici un exemple de question et de réponse :\\n    [Document(metadata={}, page_content=\" QUESTION:\\\\n Bonjour, \\\\n Je souhaite utiliser l\\'ordinateur payant. Quel est le coût ?\\\\n Merci, Caroline.\\\\n\\\\n ANSWER:\\\\n Bonjour Caroline,\\\\n Le coût de l\\'utilisation de l\\'ordinateur varie en fonction de la durée et des services inclus. Veuillez contacter notre équipe pour plus d\\'informations.\\\\n Cordialement,\\\\n SuperMozamb\"), Document(metadata={}, page_content=\" QUESTION:\\\\n Bonjour,\\\\n Puis-je utiliser l\\'ordinateur sur place pour faire des recherches ?\\\\n Merci, Sophie.\\\\n\\\\n ANSWER:\\\\n Bonjour Sophie,\\\\n Oui, nous disposons d\\'un ordinateur et d\\'une connexion Wi-Fi stable pour vous permettre de faire vos recherches ou prendre quelques photos.\\\\n Cordialement,\\\\n SuperMozamb\"), Document(metadata={}, page_content=\" QUESTION:\\\\n Bonjour, \\\\n Je souhaite utiliser le paddle payant. Quel est le coût ?\\\\n Merci, Sophie.\\\\n\\\\n ANSWER:\\\\n Bonjour Sophie,\\\\n Le coût de l\\'utilisation du paddle varie en fonction de la durée et des services inclus. Veuillez contacter notre équipe pour plus d\\'informations.\\\\n Cordialement,\\\\n SuperMozamb\"), Document(metadata={}, page_content=\" QUESTION:\\\\n Bonjour, \\\\n Je souhaite faire une activité de sport sur place. Quel est le coût ?\\\\n Merci, Alice.\\\\n\\\\n ANSWER:\\\\n Bonjour Alice,\\\\n L\\'utilisation des équipements de sport varie en fonction du type d\\'équipement et de la durée de l\\'utilisation. Veuillez contacter notre équipe pour plus d\\'informations.\\\\n Cordialement,\\\\n SuperMozamb\")]\\n\\n    Voici la question à laquelle tu dois répondre:\\n    Bonjour, je souhaite utiliser l\\'ordinateur, est-ce payant ?\\n\\n    Tu vas UNIQUEMENT me donner la réponse à donner à la question. Tu n\\'as pas besoin de me donner la question, je la connais déjà.\\n    ', additional_kwargs={}, response_metadata={})]\n",
      "-----------------\n",
      "Le coût de l'utilisation de l'ordinateur varie en fonction de la durée et des services inclus. Veuillez contacter notre équipe pour plus d'informations.\n"
     ]
    }
   ],
   "source": [
    "#mail = \"Salut,quand l'accueil est-il ouvert ?\"\n",
    "\n",
    "# mail = \"Je cherche à reserver une chambre familiale pour le 15 janvier pendant 1 semaine\"\n",
    "\n",
    "mail = \"Bonjour, je souhaite utiliser l'ordinateur, est-ce payant ?\"\n",
    "\n",
    "print(chain.invoke(mail))"
   ]
  }
 ],
 "metadata": {
  "kernelspec": {
   "display_name": "mail-project",
   "language": "python",
   "name": "python3"
  },
  "language_info": {
   "codemirror_mode": {
    "name": "ipython",
    "version": 3
   },
   "file_extension": ".py",
   "mimetype": "text/x-python",
   "name": "python",
   "nbconvert_exporter": "python",
   "pygments_lexer": "ipython3",
   "version": "3.10.4"
  }
 },
 "nbformat": 4,
 "nbformat_minor": 2
}

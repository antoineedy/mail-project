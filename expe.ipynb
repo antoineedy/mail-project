{
 "cells": [
  {
   "cell_type": "code",
   "execution_count": 1,
   "metadata": {},
   "outputs": [],
   "source": [
    "import json\n",
    "import pandas as pd\n",
    "from copy import deepcopy"
   ]
  },
  {
   "cell_type": "code",
   "execution_count": 2,
   "metadata": {},
   "outputs": [],
   "source": [
    "from pipeline.first_classifier import first_classifier\n",
    "from pipeline.routes import continue_route\n",
    "#from pipeline.output import as_output"
   ]
  },
  {
   "cell_type": "code",
   "execution_count": 3,
   "metadata": {},
   "outputs": [],
   "source": [
    "chain = first_classifier | continue_route"
   ]
  },
  {
   "cell_type": "code",
   "execution_count": 4,
   "metadata": {},
   "outputs": [
    {
     "name": "stdout",
     "output_type": "stream",
     "text": [
      "-----------------\n",
      "Question : Je cherche à reserver une chambre familiale pour le 15 janvier pendant 1 semaine\n",
      "Datasource : disponibilite_chambres\n",
      "-----------------\n",
      "-----------------\n",
      "Prompt :  Tu es un assistant va répondre à une question de l'utilisateur à propos de la disponibilité des chambres. Tu vas être très simple et factuel. Tu vas t'exprimer clairement.\n",
      "\n",
      "            Question : Je cherche à reserver une chambre familiale pour le 15 janvier pendant 1 semaine\n",
      "\n",
      "            Tu vas prendre en compte la période suivante : 2023-01-15 00:00:00 - 2023-01-22 00:00:00 pour une chambre de type family.\n",
      "            Tu vas répondre en prenant cette exemple:\n",
      "            Pour la période demandée, j'ai trouvé ces données :\n",
      "            Chambre Bleue (Double) : non disponible\n",
      "            Chambre Rouge (Double) : disponible\n",
      "            etc...\n",
      "\n",
      "            Puis ensuite tu conclus :\n",
      "\n",
      "            Avec votre demande, la chambre Rouge semble être la plus adaptée.\n",
      "\n",
      "            Tu vas répondre à l'aide de ces données (0 = non disponible, 1 = disponible) :\n",
      "            Données :\n",
      "                                                1           2\n",
      "Semaine                             2           3\n",
      "Date_Debut                 2023-01-08  2023-01-15\n",
      "Date_Fin                   2023-01-14  2023-01-21\n",
      "Chambre_1_Double_Bleue              0           1\n",
      "Chambre_2_Double_Rouge              0           1\n",
      "Chambre_3_Double_Violette           1           0\n",
      "Chambre_4_Famille_Orange            1           0\n",
      "Chambre_5_Famille_Rose              1           1\n",
      "-----------------\n",
      "Pour la période demandée, j'ai trouvé ces données :\n",
      "\n",
      "Chambre_1_Double_Bleue : non disponible\n",
      "Chambre_2_Double_Rouge : disponible\n",
      "Chambre_3_Double_Violette : non disponible\n",
      "Chambre_4_Famille_Orange : non disponible\n",
      "Chambre_5_Famille_Rose : disponible\n",
      "\n",
      "Avec votre demande, la chambre 5 Famille Rose semble être la plus adaptée. \n",
      "\n",
      "\n",
      "\n"
     ]
    }
   ],
   "source": [
    "#mail = \"Salut,quand l'accueil est-il ouvert ?\"\n",
    "\n",
    "mail = \"Je cherche à reserver une chambre familiale pour le 15 janvier pendant 1 semaine\"\n",
    "\n",
    "print(chain.invoke(mail))"
   ]
  }
 ],
 "metadata": {
  "kernelspec": {
   "display_name": "mail-project",
   "language": "python",
   "name": "python3"
  },
  "language_info": {
   "codemirror_mode": {
    "name": "ipython",
    "version": 3
   },
   "file_extension": ".py",
   "mimetype": "text/x-python",
   "name": "python",
   "nbconvert_exporter": "python",
   "pygments_lexer": "ipython3",
   "version": "3.10.4"
  }
 },
 "nbformat": 4,
 "nbformat_minor": 2
}

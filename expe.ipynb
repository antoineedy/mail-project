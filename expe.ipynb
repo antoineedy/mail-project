{
 "cells": [
  {
   "cell_type": "code",
   "execution_count": 1,
   "metadata": {},
   "outputs": [],
   "source": [
    "import json\n",
    "import pandas as pd\n",
    "from copy import deepcopy"
   ]
  },
  {
   "cell_type": "code",
   "execution_count": 2,
   "metadata": {},
   "outputs": [],
   "source": [
    "%%capture --no-stderr\n",
    "%pip install -U langchain-nomic langchain_community tiktoken langchainhub chromadb langchain langgraph nomic[local]"
   ]
  },
  {
   "cell_type": "markdown",
   "metadata": {},
   "source": [
    "## Load Data"
   ]
  },
  {
   "cell_type": "code",
   "execution_count": 3,
   "metadata": {},
   "outputs": [
    {
     "name": "stdout",
     "output_type": "stream",
     "text": [
      "Il y a 49 mails (question+réponse) dans la base de données\n",
      "Il y a 30 actis dans la base de données\n",
      "Il y a 52 semaines de dispos renseignées pour les chambres dans la base de données\n",
      "Il y a 7 informations à propos de l'accueil dans la base de données\n"
     ]
    }
   ],
   "source": [
    "# load data\n",
    "\n",
    "try:\n",
    "    with  open('data/mails.json', 'r') as f:\n",
    "        email_database = json.load(f)\n",
    "except FileNotFoundError:\n",
    "    raise FileNotFoundError('mails.json not found')\n",
    "\n",
    "print(f\"Il y a {len(email_database)} mails (question+réponse) dans la base de données\")\n",
    "\n",
    "try :\n",
    "    actis = pd.read_csv('data/actis.csv')\n",
    "except FileNotFoundError:\n",
    "    raise FileNotFoundError('actis.csv not found')\n",
    "\n",
    "print(f\"Il y a {len(actis)} actis dans la base de données\")\n",
    "\n",
    "try :\n",
    "    chambres = pd.read_csv('data/chambres.csv')\n",
    "except FileNotFoundError:\n",
    "    raise FileNotFoundError('chambres.csv not found')\n",
    "\n",
    "print(f\"Il y a {len(chambres)} semaines de dispos renseignées pour les chambres dans la base de données\")\n",
    "\n",
    "try :\n",
    "    accueil = pd.read_csv('data/accueil.csv')\n",
    "except FileNotFoundError:\n",
    "    raise FileNotFoundError('accueil.csv not found')\n",
    "\n",
    "print(f\"Il y a {len(accueil)} informations à propos de l'accueil dans la base de données\")"
   ]
  },
  {
   "cell_type": "code",
   "execution_count": 4,
   "metadata": {},
   "outputs": [],
   "source": [
    "#local_llm = \"llama3.1\"\n",
    "local_llm = \"gemma2:27b\"\n",
    "local_embedder = \"nomic-embed-text\""
   ]
  },
  {
   "cell_type": "code",
   "execution_count": 5,
   "metadata": {},
   "outputs": [],
   "source": [
    "from langchain_ollama.embeddings import OllamaEmbeddings\n",
    "from langchain_community.chat_models import ChatOllama\n",
    "\n",
    "embedder = OllamaEmbeddings(model = local_embedder)\n",
    "llm = ChatOllama(model = local_llm, temperature=0)"
   ]
  },
  {
   "cell_type": "markdown",
   "metadata": {},
   "source": [
    "## Choose where to fecth the information from"
   ]
  },
  {
   "cell_type": "code",
   "execution_count": 6,
   "metadata": {},
   "outputs": [],
   "source": [
    "from typing import Literal\n",
    "from langchain_core.prompts import ChatPromptTemplate\n",
    "from pydantic import BaseModel, Field\n",
    "from langchain_core.runnables import RunnableParallel, RunnablePassthrough\n",
    "\n",
    "from langchain_core.output_parsers import JsonOutputParser\n",
    "from langchain_core.output_parsers import StrOutputParser\n",
    "from langchain_core.runnables import RunnableLambda"
   ]
  },
  {
   "cell_type": "code",
   "execution_count": 7,
   "metadata": {},
   "outputs": [],
   "source": [
    "from ollama_instructor.ollama_instructor_client import OllamaInstructorClient"
   ]
  },
  {
   "cell_type": "code",
   "execution_count": 8,
   "metadata": {},
   "outputs": [],
   "source": [
    "from datetime import datetime"
   ]
  },
  {
   "cell_type": "code",
   "execution_count": 9,
   "metadata": {},
   "outputs": [
    {
     "data": {
      "text/plain": [
       "datetime.datetime(2023, 2, 19, 0, 0)"
      ]
     },
     "execution_count": 9,
     "metadata": {},
     "output_type": "execute_result"
    }
   ],
   "source": [
    "#2023-02-19\n",
    "datetime.strptime(\"2023-02-19\", \"%Y-%m-%d\")"
   ]
  },
  {
   "cell_type": "code",
   "execution_count": 10,
   "metadata": {},
   "outputs": [],
   "source": [
    "## gérer les mails\n",
    "\n",
    "def try_content_from_mail(mail):\n",
    "    from langchain_core.documents import Document\n",
    "    with  open('data/mails.json', 'r') as f:\n",
    "            email_database = json.load(f)\n",
    "\n",
    "    full_text = []\n",
    "    for i, page in enumerate(email_database):\n",
    "        question = page['question']\n",
    "        answer = page['answer']\n",
    "        document = Document(\n",
    "            page_content=f\" QUESTION:\\n {question}\\n\\n ANSWER:\\n {answer}\",\n",
    "        )\n",
    "        full_text.append(document)\n",
    "\n",
    "    from langchain_chroma import Chroma\n",
    "    embedder = OllamaEmbeddings(model = local_embedder)\n",
    "\n",
    "    vectorstore = Chroma()\n",
    "    vectorstore.delete_collection()\n",
    "    vectorstore = Chroma.from_documents(documents=full_text, \n",
    "                                        embedding=embedder)\n",
    "    retriever = vectorstore.as_retriever()\n",
    "\n",
    "    TEMPLATE = \"\"\"Tu es un assistant qui va m'aider à répondre à des mails. J'ai déjà une base énorme de mails avec des questons et de réponses, et je veux que tu m'aides à répondre à des questions.\n",
    "    Je vaius te donner en contexte une paire question/réponse parmi mes mails, puis une question. Tu devras me donner la réponse qui correspond le mieux à la question. Tu peux dire \"je ne sais pas\" si tu ne sais pas.\n",
    "\n",
    "    Voici un exemple de question et de réponse :\n",
    "    {context}\n",
    "\n",
    "    Voici la question à laquelle tu dois répondre:\n",
    "    {question}\n",
    "\n",
    "    Tu vas UNIQUEMENT me donner la réponse à donner à la question. Tu n'as pas besoin de me donner la question, je la connais déjà.\n",
    "    \"\"\"\n",
    "\n",
    "    prompt = ChatPromptTemplate.from_template(TEMPLATE)\n",
    "    rag_chain = (\n",
    "        {\"context\": retriever, \"question\": RunnablePassthrough()}\n",
    "        | prompt\n",
    "    )\n",
    "\n",
    "    res = rag_chain.invoke(mail)\n",
    "    return res\n"
   ]
  },
  {
   "cell_type": "code",
   "execution_count": 11,
   "metadata": {},
   "outputs": [],
   "source": [
    "class RouteQuery(BaseModel):\n",
    "    \"\"\"Tu vas guider l'utilisateur vers la bonne source de données pour répondre à sa question.\"\"\"\n",
    "\n",
    "    datasource: Literal[\"disponibilite_chambres\", \"ouverture_accueil\", \"activite\", \"other\"] = Field(\n",
    "        ...,\n",
    "        description=\"On te donne une question d'un utilisateur, et tu dois choisir la source de données la plus pertinente pour répondre à sa question. \\\n",
    "            disponibilite_chambres se réfère à la disponibilité des chambres. \\\n",
    "            ouverture_accueil se réfère aux horaires d'ouverture de l'accueil. \\\n",
    "            activites se réfère aux différentes activités de loisir proposées par l'hotel. \\\n",
    "            other se réfère à une question qui ne rentre pas dans les autres catégories.\"\n",
    "    )\n",
    "\n",
    "class RoomDates(BaseModel):\n",
    "    \"\"\"Gives the start and end dates of a room reservation that a user is asking about, in 2023, as well as the type of room.\"\"\"\n",
    "\n",
    "    start_date: str = Field(\n",
    "        ...,\n",
    "        description=\"The start date of the room reservation that the user is asking about.\",\n",
    "    )\n",
    "    end_date: str = Field(\n",
    "        ...,\n",
    "        description=\"The end date of the room reservation that the user is asking about.\",\n",
    "    )\n",
    "    room_type: Literal[\"double\", \"family\", \"not_specified\"] = Field(\n",
    "        ...,\n",
    "        description=\"The type of room that the user is asking about.\"\n",
    "    )\n",
    "\n",
    "client = OllamaInstructorClient()\n",
    "\n",
    "def dispo_chambre(mail: str) -> RoomDates:\n",
    "    response = client.chat_completion(\n",
    "        model='llama3.1', \n",
    "        pydantic_model=RoomDates, \n",
    "        messages=[\n",
    "            {\n",
    "                'role': 'user',\n",
    "                'content': mail\n",
    "            }\n",
    "        ]\n",
    "    )\n",
    "    start_date = response[\"message\"][\"content\"][\"start_date\"]\n",
    "    end_date = response[\"message\"][\"content\"][\"end_date\"]\n",
    "    room_type = response[\"message\"][\"content\"][\"room_type\"]\n",
    "\n",
    "    start_date = datetime.strptime(start_date, \"%Y-%m-%d\")\n",
    "    end_date = datetime.strptime(end_date, \"%Y-%m-%d\")\n",
    "\n",
    "    data = pd.read_csv('data/chambres.csv')\n",
    "\n",
    "    week_beg = None\n",
    "    week_end = None\n",
    "\n",
    "    for index, row in data.iterrows():\n",
    "        if datetime.strptime(row['Date_Debut'], \"%Y-%m-%d\") >= start_date and week_beg is None:\n",
    "            week_beg = index - 1\n",
    "        if datetime.strptime(row['Date_Fin'], \"%Y-%m-%d\") >= end_date:\n",
    "            week_end = index\n",
    "        if week_beg is not None and week_end is not None:\n",
    "            break    \n",
    "    \n",
    "    if week_beg is None or week_end is None:\n",
    "        raise Exception(\"No data found for this period\")\n",
    "\n",
    "    data = data.iloc[week_beg:week_end]\n",
    "    return {\"start_date\": start_date, \"end_date\": end_date, \"room_type\": room_type, \"data\": data}\n",
    "\n",
    "def choose_route(mail: str) -> RouteQuery:\n",
    "    response = client.chat_completion(\n",
    "        model='llama3.1', \n",
    "        pydantic_model=RouteQuery, \n",
    "        messages=[\n",
    "            {\n",
    "                'role': 'user',\n",
    "                'content': mail\n",
    "            }\n",
    "        ]\n",
    "    )\n",
    "    if response is None:\n",
    "        return {\"question\": mail, \"datasource\": \"other\"}\n",
    "    return {\"question\": mail, \"datasource\": response[\"message\"][\"content\"]['datasource']}\n",
    "\n",
    "def continue_root(state):\n",
    "    question = state[\"question\"]\n",
    "    datasource = state[\"datasource\"]\n",
    "    print('-----------------')\n",
    "    print(f\"Question : {question}\")\n",
    "    print(f\"Datasource : {datasource}\")\n",
    "    print('-----------------')\n",
    "    if datasource == \"ouverture_accueil\":\n",
    "        data = pd.read_csv('data/accueil.csv')\n",
    "        PROMPT = f\"\"\"Tu es un assistant va répondre à une question de l'utilisateur à propos des horaires d'ouverture de l'accueil. Tu vas être très simple et factuel. Tu vas t'exprimer clairement.\n",
    "\n",
    "        Question : {question}\n",
    "\n",
    "        \n",
    "        Tu vas répondre à l'aide de ces données:\n",
    "        Données :\n",
    "        \"\"\" + data.to_string()\n",
    "        return PROMPT\n",
    "    \n",
    "    elif datasource == \"disponibilite_chambres\":\n",
    "        out = dispo_chambre(question)\n",
    "        PROMPT = f\"\"\"Tu es un assistant va répondre à une question de l'utilisateur à propos de la disponibilité des chambres. Tu vas être très simple et factuel. Tu vas t'exprimer clairement.\n",
    "\n",
    "        Question : {question}\n",
    "\n",
    "        Tu vas prendre en compte la période suivante : {out[\"start_date\"]} - {out[\"end_date\"]} pour une chambre de type {out[\"room_type\"]}.\n",
    "\n",
    "        Tu vas répondre à l'aide de ces données:\n",
    "        Données :\n",
    "        \"\"\" + out[\"data\"].to_string()\n",
    "        return PROMPT\n",
    "    \n",
    "    elif datasource == \"activite\":\n",
    "        data = pd.read_csv('data/actis.csv')\n",
    "        PROMPT = f\"\"\"Tu es un assistant va répondre à une question de l'utilisateur à propos des prix des activités. Tu vas être très simple et factuel. Tu vas t'exprimer clairement.\n",
    "\n",
    "        Question : {question}\n",
    "\n",
    "        Tu vas répondre à l'aide de ces données.\n",
    "        Données :\n",
    "        \"\"\" + data.to_string()\n",
    "        return PROMPT\n",
    "    \n",
    "    elif datasource == \"other\":\n",
    "        return try_content_from_mail(question)\n",
    "    \n",
    "\n",
    "first_classifier = RunnableLambda(choose_route)  "
   ]
  },
  {
   "cell_type": "code",
   "execution_count": 12,
   "metadata": {},
   "outputs": [
    {
     "name": "stderr",
     "output_type": "stream",
     "text": [
      "100%|██████████| 30/30 [02:10<00:00,  4.34s/it]"
     ]
    },
    {
     "name": "stdout",
     "output_type": "stream",
     "text": [
      "27/30 questions ont été correctement classifiées comme étant des questions sur la disponibilité des chambres\n"
     ]
    },
    {
     "name": "stderr",
     "output_type": "stream",
     "text": [
      "\n"
     ]
    }
   ],
   "source": [
    "from tqdm import tqdm\n",
    "# First classifier test\n",
    "\n",
    "#1 - Disponibilité des chambres\n",
    "\n",
    "def isRoom(state):\n",
    "    return state[\"datasource\"] == \"disponibilite_chambres\"\n",
    "\n",
    "test_rooms = first_classifier | RunnableLambda(isRoom)\n",
    "\n",
    "queries = [\n",
    "    \"Avez-vous des chambres disponibles pour ce week-end ?\",\n",
    "    \"Quelles sont les disponibilités de vos chambres pour le mois prochain ?\",\n",
    "    \"Je voudrais réserver une chambre, est-ce qu'il y en a de libres ?\",\n",
    "    \"Y a-t-il des chambres libres pour deux personnes demain soir ?\",\n",
    "    \"Je cherche une chambre simple pour trois nuits, avez-vous de la disponibilité ?\",\n",
    "    \"Est-ce qu'il reste des chambres pour le 25 septembre ?\",\n",
    "    \"Pouvez-vous me dire si vous avez des chambres pour la semaine prochaine ?\",\n",
    "    \"Je souhaite réserver une chambre familiale, est-ce qu'il en reste ?\",\n",
    "    \"Quelles sont vos disponibilités pour une chambre avec vue sur la mer ?\",\n",
    "    \"Est-ce qu'il reste des suites disponibles pour ce soir ?\",\n",
    "    \"J'aimerais savoir si vous avez des chambres pour quatre personnes le 10 octobre.\",\n",
    "    \"Je voudrais réserver une chambre avec un grand lit, est-ce possible pour demain ?\",\n",
    "    \"Y a-t-il des chambres disponibles pour une personne du 15 au 18 novembre ?\",\n",
    "    \"Je voudrais savoir si vous avez des chambres doubles disponibles pour la semaine prochaine.\",\n",
    "    \"Avez-vous encore des chambres pour deux nuits à partir de vendredi ?\",\n",
    "    \"Je cherche une chambre avec balcon, est-ce qu'il en reste pour ce week-end ?\",\n",
    "    \"Pouvez-vous vérifier si vous avez des chambres libres du 1er au 3 décembre ?\",\n",
    "    \"Je souhaite réserver une chambre pour trois personnes le 22 septembre, est-ce possible ?\",\n",
    "    \"Est-ce qu'il y a des chambres libres pour ce soir ?\",\n",
    "    \"Je voudrais savoir si vous avez des chambres pour quatre nuits à partir de jeudi.\",\n",
    "    \"Je cherche une chambre avec baignoire, avez-vous de la disponibilité ?\",\n",
    "    \"Pouvez-vous me dire si vous avez des suites disponibles pour le mois prochain ?\",\n",
    "    \"Je souhaite réserver une chambre double, est-ce qu'il y en a encore ?\",\n",
    "    \"Quelles sont vos disponibilités pour une chambre simple en novembre ?\",\n",
    "    \"Est-ce qu'il reste des chambres avec petit-déjeuner inclus pour ce week-end ?\",\n",
    "    \"Y a-t-il des chambres disponibles pour deux adultes et un enfant ce samedi ?\",\n",
    "    \"Je voudrais savoir si vous avez des chambres de luxe pour cette semaine.\",\n",
    "    \"Avez-vous des chambres avec vue sur le jardin de disponibles pour septembre ?\",\n",
    "    \"Je cherche une chambre économique, est-ce qu'il en reste pour demain soir ?\",\n",
    "    \"Est-ce que je peux encore réserver une chambre pour trois nuits la semaine prochaine ?\"\n",
    "]\n",
    "\n",
    "count = 0\n",
    "for query in tqdm(queries):\n",
    "    if test_rooms.invoke(query):\n",
    "        count += 1\n",
    "print(f\"{count}/{len(queries)} questions ont été correctement classifiées comme étant des questions sur la disponibilité des chambres\")"
   ]
  },
  {
   "cell_type": "code",
   "execution_count": 13,
   "metadata": {},
   "outputs": [
    {
     "name": "stderr",
     "output_type": "stream",
     "text": [
      "100%|██████████| 30/30 [03:13<00:00,  6.44s/it]"
     ]
    },
    {
     "name": "stdout",
     "output_type": "stream",
     "text": [
      "26/30 questions ont été correctement classifiées comme étant des questions sur l'ouverture de l'accueil\n"
     ]
    },
    {
     "name": "stderr",
     "output_type": "stream",
     "text": [
      "\n"
     ]
    }
   ],
   "source": [
    "# 2 - Ouverture de l'accueil\n",
    "\n",
    "def isAccueil(state):\n",
    "    return state[\"datasource\"] == \"ouverture_accueil\"\n",
    "\n",
    "test_accueil = first_classifier | RunnableLambda(isAccueil)\n",
    "\n",
    "queries = [\n",
    "    \"Quels sont les horaires d'ouverture de la réception ?\",\n",
    "    \"Est-ce que l'accueil est ouvert toute la nuit ?\",\n",
    "    \"Pouvez-vous me dire jusqu'à quelle heure la réception est ouverte ?\",\n",
    "    \"À quelle heure ouvre l'accueil demain matin ?\",\n",
    "    \"Est-ce que je peux arriver tard, et la réception sera encore ouverte ?\",\n",
    "    \"L'accueil ferme à quelle heure ce soir ?\",\n",
    "    \"À quelle heure puis-je faire mon check-in ?\",\n",
    "    \"Est-ce que la réception est ouverte 24h/24 ?\",\n",
    "    \"Quand est-ce que la réception ferme aujourd'hui ?\",\n",
    "    \"L'accueil est-il encore ouvert à 23h ?\",\n",
    "    \"J'arrive tard, à quelle heure ferme la réception ?\",\n",
    "    \"Quels sont vos horaires d'accueil ?\",\n",
    "    \"La réception est-elle ouverte le matin ?\",\n",
    "    \"Je voudrais savoir quand je peux venir à la réception.\",\n",
    "    \"Pouvez-vous me dire si l'accueil est ouvert après 22h ?\",\n",
    "    \"L'accueil est-il ouvert le dimanche ?\",\n",
    "    \"Est-ce que je peux venir à la réception à 7h du matin ?\",\n",
    "    \"Quels sont vos horaires de réception en semaine ?\",\n",
    "    \"À quelle heure la réception ferme-t-elle le vendredi ?\",\n",
    "    \"Est-ce que la réception est ouverte pendant les jours fériés ?\",\n",
    "    \"Je voudrais savoir à quelle heure je peux faire mon check-out à la réception.\",\n",
    "    \"L'accueil sera-t-il ouvert si j'arrive tard le soir ?\",\n",
    "    \"Pouvez-vous me confirmer les horaires d'ouverture de l'accueil pour demain ?\",\n",
    "    \"À quelle heure je peux venir récupérer mes clés à la réception ?\",\n",
    "    \"L'accueil ferme-t-il à 21h ce soir ?\",\n",
    "    \"Est-ce que l'accueil est disponible à partir de 6h le matin ?\",\n",
    "    \"À quelle heure la réception ouvre-t-elle le samedi ?\",\n",
    "    \"Est-ce que la réception est ouverte à partir de 8h demain ?\",\n",
    "    \"Quels sont les horaires de l'accueil pendant le week-end ?\",\n",
    "    \"Je voudrais savoir si l'accueil ferme plus tôt les jours fériés.\"\n",
    "]\n",
    "\n",
    "count = 0\n",
    "for query in tqdm(queries):\n",
    "    if test_accueil.invoke(query):\n",
    "        count += 1\n",
    "print(f\"{count}/{len(queries)} questions ont été correctement classifiées comme étant des questions sur l'ouverture de l'accueil\")"
   ]
  },
  {
   "cell_type": "code",
   "execution_count": 14,
   "metadata": {},
   "outputs": [
    {
     "name": "stderr",
     "output_type": "stream",
     "text": [
      "100%|██████████| 30/30 [02:19<00:00,  4.65s/it]"
     ]
    },
    {
     "name": "stdout",
     "output_type": "stream",
     "text": [
      "16/30 questions ont été correctement classifiées comme étant des questions sur les activités\n"
     ]
    },
    {
     "name": "stderr",
     "output_type": "stream",
     "text": [
      "\n"
     ]
    }
   ],
   "source": [
    "# 3 - Activités\n",
    "\n",
    "def isActivite(state):\n",
    "    return state[\"datasource\"] == \"activite\"\n",
    "\n",
    "test_activite = first_classifier | RunnableLambda(isActivite)\n",
    "\n",
    "queries = [\n",
    "    \"Quelles activités proposez-vous pendant les vacances ?\",\n",
    "    \"Avez-vous des cours de yoga à l'hôtel ?\",\n",
    "    \"Est-ce que vous proposez des sorties en voilier ?\",\n",
    "    \"Je voudrais savoir si vous avez des activités comme le masque et tuba.\",\n",
    "    \"Y a-t-il des excursions organisées depuis l'hôtel ?\",\n",
    "    \"Pouvez-vous me dire si vous proposez des cours de yoga et à quel prix ?\",\n",
    "    \"Avez-vous des activités nautiques pour les clients de l'hôtel ?\",\n",
    "    \"Est-ce qu'il y a des sorties en bateau proposées pendant mon séjour ?\",\n",
    "    \"Proposez-vous des activités de groupe comme le beach-volley ?\",\n",
    "    \"Je cherche des activités relaxantes comme le yoga, en proposez-vous ?\",\n",
    "    \"Quels sont les prix pour les cours de voile ?\",\n",
    "    \"Est-ce que l'hôtel organise des sessions de snorkeling ?\",\n",
    "    \"Y a-t-il des activités de plage comme le paddle ou le kayak ?\",\n",
    "    \"Pouvez-vous me dire si vous proposez des cours de méditation ?\",\n",
    "    \"Proposez-vous des activités pour les enfants pendant les vacances ?\",\n",
    "    \"Quels sont les tarifs pour une excursion en voilier ?\",\n",
    "    \"Je voudrais savoir s'il y a des cours de fitness ou de sport proposés.\",\n",
    "    \"Avez-vous des activités sportives comme le tennis ou le volley-ball ?\",\n",
    "    \"Est-ce qu'il y a des séances de yoga gratuites à l'hôtel ?\",\n",
    "    \"Quels sont les prix pour une session de masque et tuba ?\",\n",
    "    \"L'hôtel organise-t-il des randonnées ou balades guidées ?\",\n",
    "    \"Pouvez-vous me dire s'il y a des activités en soirée, comme des spectacles ou des animations ?\",\n",
    "    \"Est-ce que vous proposez des sorties pour faire de la plongée sous-marine ?\",\n",
    "    \"Quels types d'activités de bien-être proposez-vous à l'hôtel ?\",\n",
    "    \"Est-ce qu'il y a des cours de pilates durant la semaine ?\",\n",
    "    \"Je voudrais savoir s'il est possible de louer des voiliers depuis l'hôtel.\",\n",
    "    \"Quels sont les tarifs pour vos activités nautiques ?\",\n",
    "    \"Y a-t-il des excursions en groupe organisées pour les clients de l'hôtel ?\",\n",
    "    \"Proposez-vous des cours de surf ou de paddle pendant les vacances ?\",\n",
    "    \"Pouvez-vous me dire quelles activités de plage sont disponibles et leurs prix ?\"\n",
    "]\n",
    "\n",
    "\n",
    "count = 0\n",
    "for query in tqdm(queries):\n",
    "    if test_activite.invoke(query):\n",
    "        count += 1\n",
    "print(f\"{count}/{len(queries)} questions ont été correctement classifiées comme étant des questions sur les activités\")"
   ]
  },
  {
   "cell_type": "code",
   "execution_count": 15,
   "metadata": {},
   "outputs": [],
   "source": [
    "chain = first_classifier | RunnableLambda(continue_root) | llm | StrOutputParser()"
   ]
  },
  {
   "cell_type": "code",
   "execution_count": 16,
   "metadata": {},
   "outputs": [],
   "source": [
    "#mail = \"Je veux venir mardi à 13h à l'accueil, est-ce que c'est possible ?\"\n",
    "#print(chain.invoke(mail))"
   ]
  },
  {
   "cell_type": "code",
   "execution_count": 17,
   "metadata": {},
   "outputs": [],
   "source": [
    "#mail = \"Je veux venir le 15 aout avec ma famille pour une semaine, est-ce que vous avez des chambres disponibles ?\"\n",
    "#print(chain.invoke(mail))"
   ]
  },
  {
   "cell_type": "code",
   "execution_count": 18,
   "metadata": {},
   "outputs": [],
   "source": [
    "#mail = \"Est-ce que vous avez une activitée de soin du visage ?\"\n",
    "#print(chain.invoke(mail))"
   ]
  },
  {
   "cell_type": "code",
   "execution_count": 19,
   "metadata": {},
   "outputs": [
    {
     "name": "stdout",
     "output_type": "stream",
     "text": [
      "-----------------\n",
      "Question : Avez-vous une piscine ?\n",
      "Datasource : other\n",
      "-----------------\n",
      "Oui, nous avons une piscine sur place.\n"
     ]
    }
   ],
   "source": [
    "mail = \"Avez-vous une piscine ?\"\n",
    "print(chain.invoke(mail))"
   ]
  }
 ],
 "metadata": {
  "kernelspec": {
   "display_name": "mail-project",
   "language": "python",
   "name": "python3"
  },
  "language_info": {
   "codemirror_mode": {
    "name": "ipython",
    "version": 3
   },
   "file_extension": ".py",
   "mimetype": "text/x-python",
   "name": "python",
   "nbconvert_exporter": "python",
   "pygments_lexer": "ipython3",
   "version": "3.10.4"
  }
 },
 "nbformat": 4,
 "nbformat_minor": 2
}
